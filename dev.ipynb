{
 "cells": [
  {
   "cell_type": "code",
   "execution_count": 1,
   "metadata": {},
   "outputs": [],
   "source": [
    "import numpy as np"
   ]
  },
  {
   "cell_type": "code",
   "execution_count": 2,
   "metadata": {},
   "outputs": [],
   "source": [
    "def i(m,l):\n",
    "    return 1/12*m*l**2"
   ]
  },
  {
   "cell_type": "code",
   "execution_count": 3,
   "metadata": {},
   "outputs": [
    {
     "data": {
      "text/plain": [
       "0.0060025856"
      ]
     },
     "execution_count": 3,
     "metadata": {},
     "output_type": "execute_result"
    }
   ],
   "source": [
    "i(1.32,0.2336)"
   ]
  },
  {
   "cell_type": "code",
   "execution_count": 1,
   "metadata": {},
   "outputs": [],
   "source": [
    "l1=0.2976\n",
    "l2=0.2336\n",
    "m1=1.68\n",
    "m2=1.32\n",
    "i1=0.0123992064\n",
    "i2=0.0060025856"
   ]
  },
  {
   "cell_type": "code",
   "execution_count": 2,
   "metadata": {},
   "outputs": [],
   "source": [
    "import numpy as np"
   ]
  },
  {
   "cell_type": "code",
   "execution_count": 11,
   "metadata": {},
   "outputs": [
    {
     "data": {
      "text/plain": [
       "0.1168"
      ]
     },
     "execution_count": 11,
     "metadata": {},
     "output_type": "execute_result"
    }
   ],
   "source": [
    "l2/2"
   ]
  },
  {
   "cell_type": "code",
   "execution_count": 4,
   "metadata": {},
   "outputs": [
    {
     "data": {
      "text/plain": [
       "10.0448"
      ]
     },
     "execution_count": 4,
     "metadata": {},
     "output_type": "execute_result"
    }
   ],
   "source": [
    "0.06278*160"
   ]
  },
  {
   "cell_type": "code",
   "execution_count": 6,
   "metadata": {},
   "outputs": [
    {
     "data": {
      "text/plain": [
       "0.96"
      ]
     },
     "execution_count": 6,
     "metadata": {},
     "output_type": "execute_result"
    }
   ],
   "source": [
    "0.016*60"
   ]
  },
  {
   "cell_type": "code",
   "execution_count": 9,
   "metadata": {},
   "outputs": [
    {
     "data": {
      "text/plain": [
       "0.0048095247826944005"
      ]
     },
     "execution_count": 9,
     "metadata": {},
     "output_type": "execute_result"
    }
   ],
   "source": [
    "0.000031312010304*60*(1.6)**2"
   ]
  },
  {
   "cell_type": "code",
   "execution_count": 3,
   "metadata": {},
   "outputs": [],
   "source": [
    "import numpy as np\n",
    "from icecream import ic\n",
    "def ss(a,b):\n",
    "    return np.sin(a)*np.sin(b)\n",
    "def cc(a,b):\n",
    "    return np.cos(a)*np.cos(b)\n",
    "def sc(a,b):\n",
    "    return np.sin(a)*np.cos(b)\n",
    "def cs(a,b):\n",
    "    return np.cos(a)*np.sin(b)\n"
   ]
  },
  {
   "cell_type": "code",
   "execution_count": 18,
   "metadata": {},
   "outputs": [],
   "source": [
    "\n",
    "def x1dot(l1p,td1,pd1,t1,p1):\n",
    "    return l1p*(td1*cc(t1,p1)-pd1*ss(t1,p1))\n",
    "def y1dot(l1p,td1,pd1,t1,p1):\n",
    "    return l1p*(td1*cs(t1,p1)+pd1*sc(t1,p1))\n",
    "def z1dot(l1p,td1,t1):\n",
    "    return l1p*td1*np.sin(t1)"
   ]
  },
  {
   "cell_type": "code",
   "execution_count": 19,
   "metadata": {},
   "outputs": [],
   "source": [
    "def x2dot(l1,l2p,td1,td2,pd1,pd2,t1,t2,p1,p2):\n",
    "    return x1dot(l1,td1,pd1,t1,p1)+x1dot(l2p,td2,pd2,t2,p2)\n",
    "def y2dot(l1,l2p,td1,td2,pd1,pd2,t1,t2,p1,p2):\n",
    "    return y1dot(l1,td1,pd1,t1,p1)+y1dot(l2p,td2,pd2,t2,p2)\n",
    "def z2dot(l1,l2p,td1,td2,t1,t2):\n",
    "    return z1dot(l1,td1,t1)+z1dot(l2p,td2,t2)"
   ]
  },
  {
   "cell_type": "code",
   "execution_count": 2,
   "metadata": {},
   "outputs": [],
   "source": [
    "def sq(a):\n",
    "    return a**2\n",
    "\n",
    "def x1dot_sq(l1p,td1,pd1,t1,p1):\n",
    "    return sq(l1p)*(sq(td1*cc(t1,p1))+sq(pd1*ss(t1,p1))-2*td1*cc(t1,p1)*pd1*ss(t1,p1))\n",
    "def y1dot_sq(l1p,td1,pd1,t1,p1):\n",
    "    return sq(l1p)*(sq(td1*cs(t1,p1))+sq(pd1*sc(t1,p1))+2*td1*cs(t1,p1)*pd1*sc(t1,p1))\n",
    "def z1dot_sq(l1p,td1,t1):\n",
    "    return sq(z1dot(l1p,td1,t1))"
   ]
  },
  {
   "cell_type": "code",
   "execution_count": 21,
   "metadata": {},
   "outputs": [],
   "source": [
    "def x2dot_sq(l1,l2p,td1,td2,pd1,pd2,t1,t2,p1,p2):\n",
    "    return x1dot_sq(l1,td1,pd1,t1,p1)+x1dot_sq(l2p,td2,pd2,t2,p2)+2*x1dot(l1,td1,pd1,t1,p1)*x1dot(l2p,td2,pd2,t2,p2)\n",
    "def y2dot_sq(l1,l2p,td1,td2,pd1,pd2,t1,t2,p1,p2):\n",
    "    return y1dot_sq(l1,td1,pd1,t1,p1)+y1dot_sq(l2p,td2,pd2,t2,p2)+2*y1dot(l1,td1,pd1,t1,p1)*y1dot(l2p,td2,pd2,t2,p2)\n",
    "def z2dot_sq(l1,l2p,td1,td2,t1,t2):\n",
    "    return z1dot_sq(l1,td1,t1)+z1dot_sq(l2p,td2,t2)+2*z1dot(l1,td1,t1)*z1dot(l2p,td2,t2)"
   ]
  },
  {
   "cell_type": "code",
   "execution_count": 8,
   "metadata": {},
   "outputs": [],
   "source": [
    "m2=10\n",
    "l1=0.2976*2\n",
    "l1p=0.2976\n",
    "l2p=0.2336\n",
    "td1= 0.123\n",
    "td2=0.234\n",
    "tdd1=0.123\n",
    "tdd2 = 0.234\n",
    "pdd1= 0.123\n",
    "pdd2=0.234\n",
    "pd1=0.185\n",
    "pd2=0.31\n",
    "t1=np.radians(27)\n",
    "t2=np.radians(109)\n",
    "p1=np.radians(80)\n",
    "p2=np.radians(90)"
   ]
  },
  {
   "cell_type": "code",
   "execution_count": 23,
   "metadata": {},
   "outputs": [
    {
     "name": "stderr",
     "output_type": "stream",
     "text": [
      "ic| x1dot_test: True, y1dot_test: True, z1dot_test: True\n"
     ]
    },
    {
     "data": {
      "text/plain": [
       "(True, True, True)"
      ]
     },
     "execution_count": 23,
     "metadata": {},
     "output_type": "execute_result"
    }
   ],
   "source": [
    "x1dot_test=np.allclose(sq(x1dot(l1p,td1,pd1,t1,p1)),x1dot_sq(l1p,td1,pd1,t1,p1))\n",
    "y1dot_test = np.allclose(sq(y1dot(l1p,td1,pd1,t1,p1)),y1dot_sq(l1p,td1,pd1,t1,p1))\n",
    "z1dot_test = np.allclose(sq(z1dot(l1p,td1,t1)),z1dot_sq(l1p,td1,t1))\n",
    "ic(x1dot_test,y1dot_test,z1dot_test)"
   ]
  },
  {
   "cell_type": "code",
   "execution_count": 24,
   "metadata": {},
   "outputs": [
    {
     "name": "stderr",
     "output_type": "stream",
     "text": [
      "ic| x2dot_test: True, y2dot_test: True, z2dot_test: True\n"
     ]
    },
    {
     "data": {
      "text/plain": [
       "(True, True, True)"
      ]
     },
     "execution_count": 24,
     "metadata": {},
     "output_type": "execute_result"
    }
   ],
   "source": [
    "x2dot_test = np.allclose(sq(x2dot(l1,l2p,td1,td2,pd1,pd2,t1,t2,p1,p2)),x2dot_sq(l1,l2p,td1,td2,pd1,pd2,t1,t2,p1,p2))\n",
    "y2dot_test = np.allclose(sq(y2dot(l1,l2p,td1,td2,pd1,pd2,t1,t2,p1,p2)),y2dot_sq(l1,l2p,td1,td2,pd1,pd2,t1,t2,p1,p2))\n",
    "z2dot_test = np.allclose(sq(z2dot(l1,l2p,td1,td2,t1,t2)),z2dot_sq(l1,l2p,td1,td2,t1,t2))\n",
    "ic(x2dot_test,y2dot_test,z2dot_test)"
   ]
  },
  {
   "cell_type": "code",
   "execution_count": 44,
   "metadata": {},
   "outputs": [],
   "source": [
    "def new_x1_plus(l1p,td1,pd1,t1):\n",
    "    return sq(l1p)*(sq(td1)+sq(pd1)*sq(np.sin(t1)))\n",
    "def new_x2_plus(l1,td1,td2,pd1,pd2,t1,t2,p1,p2):\n",
    "    A= 2*l1*l2p\n",
    "    B = td2*np.cos(t2)*(td1*np.cos(t1)*np.cos(p1-p2)-pd1*np.sin(t1)*np.sin(p1-p2))\n",
    "    C = pd2*np.sin(t2)*(td1*np.cos(t1)*np.sin(p1-p2)+pd1*np.sin(t1)*np.cos(p1-p2))\n",
    "    D =td1*td2*ss(t1,t2)\n",
    "    c = A*(B+C+D)\n",
    "    return new_x1_plus(l1,td1,pd1,t1)+new_x1_plus(l2p,td2,pd2,t2)+c"
   ]
  },
  {
   "cell_type": "code",
   "execution_count": 45,
   "metadata": {},
   "outputs": [],
   "source": [
    "x1_sq= x1dot_sq(l1p,td1,pd1,t1,p1)\n",
    "y1_sq= y1dot_sq(l1p,td1,pd1,t1,p1)\n",
    "z1_sq = z1dot_sq(l1p,td1,t1)\n",
    "\n",
    "x2_sq = x2dot_sq(l1,l2p,td1,td2,pd1,pd2,t1,t2,p1,p2)\n",
    "y2_sq = y2dot_sq(l1,l2p,td1,td2,pd1,pd2,t1,t2,p1,p2)\n",
    "z2_sq = z2dot_sq(l1,l2p,td1,td2,t1,t2)"
   ]
  },
  {
   "cell_type": "code",
   "execution_count": 46,
   "metadata": {},
   "outputs": [
    {
     "name": "stderr",
     "output_type": "stream",
     "text": [
      "ic| xyz1_plus_test: True, xyz2_plus_test: True\n"
     ]
    },
    {
     "data": {
      "text/plain": [
       "(True, True)"
      ]
     },
     "execution_count": 46,
     "metadata": {},
     "output_type": "execute_result"
    }
   ],
   "source": [
    "xyz1_plus_test = np.allclose(x1_sq+y1_sq+z1_sq,new_x1_plus(l1p,td1,pd1,t1))\n",
    "xyz2_plus_test = np.allclose(x2_sq+y2_sq+z2_sq,new_x2_plus(l1,td1,td2,pd1,pd2,t1,t2,p1,p2))\n",
    "ic(xyz1_plus_test,xyz2_plus_test)"
   ]
  },
  {
   "cell_type": "code",
   "execution_count": 47,
   "metadata": {},
   "outputs": [
    {
     "data": {
      "text/plain": [
       "0.021565551037829964"
      ]
     },
     "execution_count": 47,
     "metadata": {},
     "output_type": "execute_result"
    }
   ],
   "source": [
    "x2_sq+y2_sq+z2_sq"
   ]
  },
  {
   "cell_type": "code",
   "execution_count": 48,
   "metadata": {},
   "outputs": [
    {
     "data": {
      "text/plain": [
       "0.021565551037829964"
      ]
     },
     "execution_count": 48,
     "metadata": {},
     "output_type": "execute_result"
    }
   ],
   "source": [
    "new_x2_plus(l1,td1,td2,pd1,pd2,t1,t2,p1,p2)"
   ]
  },
  {
   "cell_type": "code",
   "execution_count": 42,
   "metadata": {},
   "outputs": [],
   "source": [
    "import numpy as np\n",
    "from icecream import ic\n",
    "\n",
    "\n",
    "def l_pi2(m2, l1, l2p, td1, td2, t1, t2, pd1, pd2, p1, p2):\n",
    "    return (\n",
    "        1\n",
    "        / 2\n",
    "        * (\n",
    "            m2\n",
    "            * (\n",
    "                2\n",
    "                * l1\n",
    "                * l2p\n",
    "                * (td2 * np.cos(t2) * (-td1 * cs(t1, p2 - p1) + pd1 * sc(t1, p2 - p1))\n",
    "                + (pd2 * np.sin(t2) * (-td1 * cc(t1, p2 - p1) - pd1 * ss(t1, p2 - p1))))\n",
    "            )\n",
    "        )\n",
    "    )\n",
    "\n",
    "\n",
    "def l_pi2_dot(m2, l1, l2p, tdd1, td1, t1, t2, pdd1, pdd2, p1, p2, pd1, pd2):\n",
    "    return (\n",
    "        1\n",
    "        / 2\n",
    "        * (\n",
    "            m2\n",
    "            * (\n",
    "                2 * sq(l2p) * (pdd2 * sq(np.sin(t2)) + 2 * pd2 * sc(t2, t2))\n",
    "                + 2\n",
    "                * l1\n",
    "                * l2p\n",
    "                * (\n",
    "                    np.cos(t2) * (td1 * cs(t1, p1 - p2) + pd1 * sc(t1, p1 - p2))\n",
    "                    + np.sin(t2)\n",
    "                    * (\n",
    "                        (tdd1 * np.cos(t1) - td1 * np.sin(t1)) * np.sin(p1 - p2)\n",
    "                        + (pdd1 * np.sin(t1) + pd1 * np.cos(t1)) * np.cos(p1 - p2)\n",
    "                    )\n",
    "                )\n",
    "            )\n",
    "        )\n",
    "    )\n",
    "\n",
    "\n",
    "def l_pi2_min(m2, l1, l2p, tdd1, td1, td2, t1, t2, pdd1, pd1, pdd2, pd2, p1, p2):\n",
    "    return (\n",
    "        tdd1 * (m2 * l1 * l2p * cs(t1, t2) * np.sin(p1 - p2))\n",
    "        + td1\n",
    "        * (m2 * l1 * l2p * (cs(t1 + t2, p1 - p2) + td2 * cc(t1, t2) * np.sin(p2 - p1)+pd2*cs(t1,t2)*np.cos(p2-p1)))\n",
    "        + pdd1 * (m2 * l1 * l2p * ss(t1, t2) * np.cos(p1 - p2))\n",
    "        + pd1\n",
    "        * (\n",
    "            m2\n",
    "            * l1\n",
    "            * l2p\n",
    "            * (\n",
    "                sc(t1 + t2, p1 - p2) + pd2 * ss(t1, t2) * np.sin(p2 - p1) - td2\n",
    "                *sc(t1, t2) * np.cos(p2 - p1)\n",
    "            )\n",
    "        )\n",
    "        + pdd2 * (m2 * sq(l2p) * sq(np.sin(t2)))\n",
    "        + pd2 * (2 * m2 * sq(l2p) * sc(t2, t2))\n",
    "    )\n"
   ]
  },
  {
   "cell_type": "code",
   "execution_count": 43,
   "metadata": {},
   "outputs": [],
   "source": [
    "l_pi2_dot_test=l_pi2_dot(m2, l1, l2p, tdd1, td1, t1, t2, pdd1, pdd2, p1, p2, pd1, pd2)\n",
    "l_pi2_test = l_pi2(m2, l1, l2p, td1, td2, t1, t2, pd1, pd2, p1, p2)\n",
    "l_pi2_min_test = l_pi2_min(m2, l1, l2p, tdd1, td1, td2, t1, t2, pdd1, pd1, pdd2, pd2, p1, p2)"
   ]
  },
  {
   "cell_type": "code",
   "execution_count": 44,
   "metadata": {},
   "outputs": [
    {
     "data": {
      "text/plain": [
       "True"
      ]
     },
     "execution_count": 44,
     "metadata": {},
     "output_type": "execute_result"
    }
   ],
   "source": [
    "np.allclose(l_pi2_dot_test-l_pi2_test,l_pi2_min_test)"
   ]
  },
  {
   "cell_type": "code",
   "execution_count": 45,
   "metadata": {},
   "outputs": [
    {
     "data": {
      "text/plain": [
       "0.3112886223298947"
      ]
     },
     "execution_count": 45,
     "metadata": {},
     "output_type": "execute_result"
    }
   ],
   "source": [
    "l_pi2_dot_test-l_pi2_test"
   ]
  },
  {
   "cell_type": "code",
   "execution_count": 46,
   "metadata": {},
   "outputs": [
    {
     "data": {
      "text/plain": [
       "0.31128862232989474"
      ]
     },
     "execution_count": 46,
     "metadata": {},
     "output_type": "execute_result"
    }
   ],
   "source": [
    "l_pi2_min_test"
   ]
  },
  {
   "cell_type": "code",
   "execution_count": null,
   "metadata": {},
   "outputs": [],
   "source": []
  }
 ],
 "metadata": {
  "interpreter": {
   "hash": "4be9920f0d61c73243ba060be4c19170f97737bfa1c8c63c10c15647f234e50c"
  },
  "kernelspec": {
   "display_name": "Python 3.9.7 64-bit ('python-opengl-w9GGVXaE-py3.9': poetry)",
   "language": "python",
   "name": "python3"
  },
  "language_info": {
   "codemirror_mode": {
    "name": "ipython",
    "version": 3
   },
   "file_extension": ".py",
   "mimetype": "text/x-python",
   "name": "python",
   "nbconvert_exporter": "python",
   "pygments_lexer": "ipython3",
   "version": "3.9.7"
  },
  "orig_nbformat": 4
 },
 "nbformat": 4,
 "nbformat_minor": 2
}
